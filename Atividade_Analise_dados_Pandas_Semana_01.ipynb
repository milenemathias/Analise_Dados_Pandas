{
  "cells": [
    {
      "cell_type": "markdown",
      "metadata": {
        "id": "v8pFWwviib2C"
      },
      "source": [
        "![Growdev](https://www.growdev.com.br/assets/images/logo_growdev.png)"
      ]
    },
    {
      "cell_type": "markdown",
      "metadata": {
        "id": "6Tkl4_HxifXZ"
      },
      "source": [
        "![Formação Engenharia de Dados](https://d335luupugsy2.cloudfront.net/cms/files/524558/1707226566/$occu5m8t1op)"
      ]
    },
    {
      "cell_type": "markdown",
      "metadata": {
        "id": "ty7Bzyl1i9bN"
      },
      "source": [
        "Este material tem como objetivo incentivar a prática dos conteúdos estudados até o momento, e a pesquisa. Tenha em consideração que o exercício foi pensado para incentivar a prática dos conteúdos estudados até então, porém aprender a pesquisar faz parte do processo de aprendizagem.\n",
        "\n",
        "Fique tranquilo, faça os exercícios com calma, e boa prática!\n"
      ]
    },
    {
      "cell_type": "markdown",
      "metadata": {
        "id": "DU5-yCQwjx3V"
      },
      "source": [
        "#Orientações:\n",
        "\n",
        " - Faça uma copia deste arquivo\n",
        " - Após concluir os exercicios, suba seu exercicio para o GitHub e compartilhe o link no **google** Classroom\n"
      ]
    },
    {
      "cell_type": "markdown",
      "metadata": {
        "id": "jPJ5hyxa2cos"
      },
      "source": [
        "\n",
        "Utilize o dataset contido nesse [link](https://www.kaggle.com/datasets/upadorprofzs/testes), e responda as questões abaixo.\n",
        "\n",
        "O dataset contém dados estatísticos do IBGE relativos à escolaridade, renda entre outros campos avaliados pela  PNAD (Pesquisa Nacional por Amostra de Domicílios).\n",
        "\n",
        "Os dados podem representar informações relevantes e reveladoras sobre a distribuição de renda e possivelmente alguns indicadores sobre tais situações encontradas a partir dos dados."
      ]
    },
    {
      "cell_type": "markdown",
      "metadata": {
        "id": "EzT810tnlmfE"
      },
      "source": [
        "#Exercícios"
      ]
    },
    {
      "cell_type": "markdown",
      "metadata": {
        "id": "sYEv1vohLu34"
      },
      "source": [
        "Qual a quantidade de pessoas nas seguintes faixas etárias\n",
        "- 20 anos ou menos\n",
        "- 21 a 35 anos\n",
        "- 36 a 50 anos\n",
        "- 51 a 65 anos\n",
        "- maiores de 65 anos\n",
        "\n"
      ]
    },
    {
      "cell_type": "code",
      "execution_count": 4,
      "metadata": {
        "id": "0drCl45SMELV"
      },
      "outputs": [
        {
          "name": "stdout",
          "output_type": "stream",
          "text": [
            "   UF  Sexo  Idade  Cor  Anos de Estudo  Renda    Altura\n",
            "0  11     0     23    8              12    800  1.603808\n",
            "1  11     1     23    2              12   1150  1.739790\n",
            "2  11     1     35    8              15    880  1.760444\n",
            "3  11     0     46    2               6   3500  1.783158\n",
            "4  11     1     47    8               9    150  1.690631\n",
            "0\n",
            "20 anos ou menos: 764 pessoas\n",
            "21 a 35 anos: 20654 pessoas\n",
            "36 a 50 anos: 31770 pessoas\n",
            "51 a 65 anos: 20006 pessoas\n",
            "maiores de 65 anos: 3646 pessoas\n"
          ]
        }
      ],
      "source": [
        "import pandas as pd\n",
        "\n",
        "df = pd.read_csv('C:/Users/Milene/Documents/Engenharia de Dados/Programação Aplicada - Python II/Atividade_Analise_dados_Pandas/dados.csv')\n",
        "\n",
        "# Inspeção das primeiras linhas do dataframe para identificar a coluna de idade\n",
        "print(df.head())\n",
        "\n",
        "# Verificando se há valores nulos na coluna de idade\n",
        "print(df['Idade'].isnull().sum())\n",
        "\n",
        "# Definição das faixas etárias\n",
        "faixas_etarias = [\n",
        "    (df['Idade'] <= 20),\n",
        "    (df['Idade'] > 20) & (df['Idade'] <= 35),\n",
        "    (df['Idade'] > 35) & (df['Idade'] <= 50),\n",
        "    (df['Idade'] > 50) & (df['Idade'] <= 65),\n",
        "    (df['Idade'] > 65)\n",
        "]\n",
        "\n",
        "# Contagem da quantidade de pessoas em cada faixa etária\n",
        "quantidade_por_faixa = [df[faixa].shape[0] for faixa in faixas_etarias]\n",
        "\n",
        "faixas_nomes = [\n",
        "    '20 anos ou menos',\n",
        "    '21 a 35 anos',\n",
        "    '36 a 50 anos',\n",
        "    '51 a 65 anos',\n",
        "    'maiores de 65 anos'\n",
        "]\n",
        "\n",
        "for faixa, quantidade in zip(faixas_nomes, quantidade_por_faixa):\n",
        "    print(f'{faixa}: {quantidade} pessoas')\n"
      ]
    },
    {
      "cell_type": "markdown",
      "metadata": {
        "id": "6y7X1dc-MFr1"
      },
      "source": [
        "Qual é a média de escolaridade em cada faixa etária?\n"
      ]
    },
    {
      "cell_type": "code",
      "execution_count": 6,
      "metadata": {
        "id": "6X6M5T7EMb-G"
      },
      "outputs": [
        {
          "name": "stdout",
          "output_type": "stream",
          "text": [
            "   UF  Sexo  Idade  Cor  Anos de Estudo  Renda    Altura\n",
            "0  11     0     23    8              12    800  1.603808\n",
            "1  11     1     23    2              12   1150  1.739790\n",
            "2  11     1     35    8              15    880  1.760444\n",
            "3  11     0     46    2               6   3500  1.783158\n",
            "4  11     1     47    8               9    150  1.690631\n",
            "Número de valores nulos na coluna 'Idade': 0\n",
            "Número de valores nulos na coluna 'Anos de Estudo': 0\n",
            "20 anos ou menos: média de escolaridade: 9.70\n",
            "21 a 35 anos: média de escolaridade: 10.81\n",
            "36 a 50 anos: média de escolaridade: 9.76\n",
            "51 a 65 anos: média de escolaridade: 8.27\n",
            "maiores de 65 anos: média de escolaridade: 5.84\n"
          ]
        }
      ],
      "source": [
        "# Inspeção das primeiras linhas do dataframe para identificação das colunas de idade e anos de estudo\n",
        "print(df.head())\n",
        "\n",
        "# Verificando se as colunas 'Idade' e 'Anos de Estudo' existem\n",
        "if 'Idade' not in df.columns or 'Anos de Estudo' not in df.columns:\n",
        "    print(\"Erro: As colunas 'Idade' e/ou 'Escolaridade' não existem no dataset.\")\n",
        "else:\n",
        "    # Verificando se há valores nulos nas colunas de Idade e Anos de Estudo\n",
        "    print(\"Número de valores nulos na coluna 'Idade':\", df['Idade'].isnull().sum())\n",
        "    print(\"Número de valores nulos na coluna 'Anos de Estudo':\", df['Anos de Estudo'].isnull().sum())\n",
        "    \n",
        "    # Preenchendo os valores nulos com a média\n",
        "    df['Idade'].fillna(df['Idade'].mean())\n",
        "    df['Anos de Estudo'].fillna(df['Anos de Estudo'].mean())\n",
        "\n",
        "    # Definição das faixas etárias\n",
        "    faixas_etarias = [\n",
        "        (df['Idade'] <= 20),\n",
        "        (df['Idade'] > 20) & (df['Idade'] <= 35),\n",
        "        (df['Idade'] > 35) & (df['Idade'] <= 50),\n",
        "        (df['Idade'] > 50) & (df['Idade'] <= 65),\n",
        "        (df['Idade'] > 65)\n",
        "    ]\n",
        "\n",
        "    faixas_nomes = [\n",
        "        '20 anos ou menos',\n",
        "        '21 a 35 anos',\n",
        "        '36 a 50 anos',\n",
        "        '51 a 65 anos',\n",
        "        'maiores de 65 anos'\n",
        "    ]\n",
        "\n",
        "    # Cálculo da média de escolaridade em cada faixa etária\n",
        "    media_escolaridade_por_faixa = [df[faixa]['Anos de Estudo'].mean() for faixa in faixas_etarias]\n",
        "\n",
        "    # Resultado\n",
        "    for faixa, media_escolaridade in zip(faixas_nomes, media_escolaridade_por_faixa):\n",
        "        print(f'{faixa}: média de escolaridade: {media_escolaridade:.2f}')\n"
      ]
    },
    {
      "cell_type": "markdown",
      "metadata": {
        "id": "FgEq2x_mMicx"
      },
      "source": [
        "Qual a UF que concentra a maior renda?\n"
      ]
    },
    {
      "cell_type": "code",
      "execution_count": 8,
      "metadata": {
        "id": "EFe-4pq8NGRf"
      },
      "outputs": [
        {
          "name": "stdout",
          "output_type": "stream",
          "text": [
            "   UF  Sexo  Idade  Cor  Anos de Estudo  Renda    Altura\n",
            "0  11     0     23    8              12    800  1.603808\n",
            "1  11     1     23    2              12   1150  1.739790\n",
            "2  11     1     35    8              15    880  1.760444\n",
            "3  11     0     46    2               6   3500  1.783158\n",
            "4  11     1     47    8               9    150  1.690631\n",
            "Número de valores nulos na coluna 'UF': 0\n",
            "Número de valores nulos na coluna 'Renda': 0\n",
            "A UF que concentra a maior renda é 53 com uma média de renda de 4241.95\n"
          ]
        }
      ],
      "source": [
        "# Inspeção das primeiras linhas do dataframe para identificação das colunas de uf e renda\n",
        "print(df.head())\n",
        "\n",
        "# Verificando se as colunas 'uf' e 'renda' existem\n",
        "if 'UF' not in df.columns or 'Renda' not in df.columns:\n",
        "    print(\"Erro: As colunas 'UF' e/ou 'Renda' não existem no dataset.\")\n",
        "else:\n",
        "    # Verificando se há valores nulos nas colunas de uf e renda\n",
        "    print(\"Número de valores nulos na coluna 'UF':\", df['UF'].isnull().sum())\n",
        "    print(\"Número de valores nulos na coluna 'Renda':\", df['Renda'].isnull().sum())\n",
        "    \n",
        "    # Preenchimento dos valores nulos com o valor mais frequente ou remoção das linhas com valores nulos\n",
        "    df['UF'] = df['UF'].fillna(df['UF'].mode()[0])\n",
        "    df['Renda'] = df['Renda'].fillna(df['Renda'].mean())\n",
        "\n",
        "    # Cálculo da média de renda por UF\n",
        "    media_renda_por_uf = df.groupby('UF')['Renda'].mean()\n",
        "\n",
        "    # Identificação da UF com a maior média de renda\n",
        "    uf_maior_renda = media_renda_por_uf.idxmax()\n",
        "    maior_media_renda = media_renda_por_uf.max()\n",
        "\n",
        "    # Resultado\n",
        "    print(f'A UF que concentra a maior renda é {uf_maior_renda} com uma média de renda de {maior_media_renda:.2f}')\n"
      ]
    },
    {
      "cell_type": "markdown",
      "metadata": {
        "id": "VFXayO6DNJ3F"
      },
      "source": [
        "Qual a renda média de pessoas pretas e brancas de homens e mulheres?\n"
      ]
    },
    {
      "cell_type": "code",
      "execution_count": 9,
      "metadata": {
        "id": "JUO0B9kWNcCX"
      },
      "outputs": [
        {
          "name": "stdout",
          "output_type": "stream",
          "text": [
            "   UF  Sexo  Idade  Cor  Anos de Estudo  Renda    Altura\n",
            "0  11     0     23    8              12    800  1.603808\n",
            "1  11     1     23    2              12   1150  1.739790\n",
            "2  11     1     35    8              15    880  1.760444\n",
            "3  11     0     46    2               6   3500  1.783158\n",
            "4  11     1     47    8               9    150  1.690631\n",
            "Número de valores nulos na coluna 'Cor': 0\n",
            "Número de valores nulos na coluna 'Sexo': 0\n",
            "Número de valores nulos na coluna 'Renda': 0\n",
            "Média de renda por raça/cor e sexo:\n",
            "Sexo            0            1\n",
            "Cor                           \n",
            "0     1081.710938  2464.386139\n",
            "2     2925.744435  2109.866750\n",
            "4     1603.861687  1134.596400\n",
            "6     4758.251064  3027.341880\n",
            "8     1659.577425  1176.758516\n"
          ]
        }
      ],
      "source": [
        "# Inspeção das primeiras linhas do dataframe para identificação das colunas de cor, sexo e renda\n",
        "print(df.head())\n",
        "\n",
        "# Verificando se as colunas 'Cor', 'Sexo' e 'Renda' existem\n",
        "if 'Cor' not in df.columns or 'Sexo' not in df.columns or 'Renda' not in df.columns:\n",
        "    print(\"Erro: As colunas 'Cor', 'Sexo' e/ou 'Renda' não existem no dataset.\")\n",
        "else:\n",
        "    # Verificando se há valores nulos nas colunas de cor, sexo e renda\n",
        "    print(\"Número de valores nulos na coluna 'Cor':\", df['Cor'].isnull().sum())\n",
        "    print(\"Número de valores nulos na coluna 'Sexo':\", df['Sexo'].isnull().sum())\n",
        "    print(\"Número de valores nulos na coluna 'Renda':\", df['Renda'].isnull().sum())\n",
        "    \n",
        "    # Preenchimento dos valores nulos com os números mais frequentes para 'Cor' e 'Sexo', e com a média para 'Renda'\n",
        "    df['Cor'] = df['Cor'].fillna(df['Cor'].mode()[0])\n",
        "    df['Sexo'] = df['Sexo'].fillna(df['Sexo'].mode()[0])\n",
        "    df['Renda'] = df['Renda'].fillna(df['Renda'].mean())\n",
        "\n",
        "    # Cálculo da média de renda por raça/cor e sexo\n",
        "    media_renda_por_cor_sexo = df.groupby(['Cor', 'Sexo'])['Renda'].mean().unstack()\n",
        "\n",
        "    # Resultados\n",
        "    print(\"Média de renda por raça/cor e sexo:\")\n",
        "    print(media_renda_por_cor_sexo)\n"
      ]
    },
    {
      "cell_type": "markdown",
      "metadata": {
        "id": "aqaMxrGMNhQv"
      },
      "source": [
        "Qual a renda média concentrada em cada faixa etária?\n",
        "\n",
        "\n"
      ]
    },
    {
      "cell_type": "code",
      "execution_count": 10,
      "metadata": {
        "id": "yoT1FXJSzKwj"
      },
      "outputs": [
        {
          "name": "stdout",
          "output_type": "stream",
          "text": [
            "20 anos ou menos: média de renda: R$985.35\n",
            "21 a 35 anos: média de renda: R$1748.29\n",
            "36 a 50 anos: média de renda: R$2113.76\n",
            "51 a 65 anos: média de renda: R$2150.20\n",
            "maiores de 65 anos: média de renda: R$1831.23\n"
          ]
        }
      ],
      "source": [
        "    # Definição das faixas etárias\n",
        "faixas_etarias = [\n",
        "        (df['Idade'] <= 20),\n",
        "        (df['Idade'] > 20) & (df['Idade'] <= 35),\n",
        "        (df['Idade'] > 35) & (df['Idade'] <= 50),\n",
        "        (df['Idade'] > 50) & (df['Idade'] <= 65),\n",
        "        (df['Idade'] > 65)\n",
        "    ]\n",
        "\n",
        "faixas_nomes = [\n",
        "        '20 anos ou menos',\n",
        "        '21 a 35 anos',\n",
        "        '36 a 50 anos',\n",
        "        '51 a 65 anos',\n",
        "        'maiores de 65 anos'\n",
        "    ]\n",
        "\n",
        "    # Cálculo da média de renda em cada faixa etária\n",
        "media_renda_por_faixa_etaria = [df[faixa]['Renda'].mean() for faixa in faixas_etarias]\n",
        "\n",
        "    # Resultados\n",
        "for faixa, media_renda in zip(faixas_nomes, media_renda_por_faixa_etaria):\n",
        "        print(f'{faixa}: média de renda: R${media_renda:.2f}')\n"
      ]
    },
    {
      "cell_type": "markdown",
      "metadata": {
        "id": "jMjZzRxr29TF"
      },
      "source": [
        "Qual a renda média nas faixas de anos de estudo abaixo?\n",
        "- 2 anos ou menos\n",
        "- 3 a 6 anos\n",
        "- 7 a 10 anos\n",
        "- 10 a 12 anos\n",
        "- 13 anos ou mais\n"
      ]
    },
    {
      "cell_type": "code",
      "execution_count": 11,
      "metadata": {
        "id": "ZWpciLPN3Ckx"
      },
      "outputs": [
        {
          "name": "stdout",
          "output_type": "stream",
          "text": [
            "   UF  Sexo  Idade  Cor  Anos de Estudo  Renda    Altura\n",
            "0  11     0     23    8              12    800  1.603808\n",
            "1  11     1     23    2              12   1150  1.739790\n",
            "2  11     1     35    8              15    880  1.760444\n",
            "3  11     0     46    2               6   3500  1.783158\n",
            "4  11     1     47    8               9    150  1.690631\n",
            "Número de valores nulos na coluna 'Anos de Estudo': 0\n",
            "Número de valores nulos na coluna 'Renda': 0\n",
            "2 anos ou menos: média de renda: R$747.10\n",
            "3 a 6 anos: média de renda: R$1089.38\n",
            "7 a 10 anos: média de renda: R$1370.89\n",
            "10 a 12 anos: média de renda: R$1809.78\n",
            "13 anos ou mais: média de renda: R$4434.41\n"
          ]
        }
      ],
      "source": [
        "# Inspeção das primeiras linhas do dataframe para identificação das colunas de anos_de_estudo e renda\n",
        "print(df.head())\n",
        "\n",
        "# Verificando se as colunas 'Anos de Estudo' e 'Renda' existem\n",
        "if 'Anos de Estudo' not in df.columns or 'Renda' not in df.columns:\n",
        "    print(\"Erro: As colunas 'Anos de Estudo ' e/ou 'Renda' não existem no dataset.\")\n",
        "else:\n",
        "    # Verificando se há valores nulos nas colunas de Anos de Estudo e Renda\n",
        "    print(\"Número de valores nulos na coluna 'Anos de Estudo':\", df['Anos de Estudo'].isnull().sum())\n",
        "    print(\"Número de valores nulos na coluna 'Renda':\", df['Renda'].isnull().sum())\n",
        "    \n",
        "    # Preenchimento dos valores nulos com a média para 'Renda' e 'Anos de Estudo'\n",
        "    df['Renda'] = df['Renda'].fillna(df['Renda'].mean())\n",
        "    df['Anos de Estudo'] = df['Anos de Estudo'].fillna(df['Anos de Estudo'].mean())\n",
        "\n",
        "    # Definição das faixas de anos de estudo\n",
        "    faixas_anos_estudo = [\n",
        "        (df['Anos de Estudo'] <= 2),\n",
        "        (df['Anos de Estudo'] > 2) & (df['Anos de Estudo'] <= 6),\n",
        "        (df['Anos de Estudo'] > 6) & (df['Anos de Estudo'] <= 10),\n",
        "        (df['Anos de Estudo'] > 10) & (df['Anos de Estudo'] <= 12),\n",
        "        (df['Anos de Estudo'] > 12)\n",
        "    ]\n",
        "\n",
        "    faixas_nomes = [\n",
        "        '2 anos ou menos',\n",
        "        '3 a 6 anos',\n",
        "        '7 a 10 anos',\n",
        "        '10 a 12 anos',\n",
        "        '13 anos ou mais'\n",
        "    ]\n",
        "\n",
        "    # Cálculo da média de renda em cada faixa de anos de estudo\n",
        "    media_renda_por_faixa_anos_estudo = [df[faixa]['Renda'].mean() for faixa in faixas_anos_estudo]\n",
        "\n",
        "    # Resultado\n",
        "    for faixa, media_renda in zip(faixas_nomes, media_renda_por_faixa_anos_estudo):\n",
        "        print(f'{faixa}: média de renda: R${media_renda:.2f}')\n"
      ]
    },
    {
      "cell_type": "markdown",
      "metadata": {
        "id": "fDxIIqqS3DHs"
      },
      "source": [
        "Qual a escolaridade entre indígenas, para homens e mulheres?\n"
      ]
    },
    {
      "cell_type": "code",
      "execution_count": 12,
      "metadata": {
        "id": "M85a5qNt3E2y"
      },
      "outputs": [
        {
          "name": "stdout",
          "output_type": "stream",
          "text": [
            "   UF  Sexo  Idade  Cor  Anos de Estudo  Renda    Altura\n",
            "0  11     0     23    8              12    800  1.603808\n",
            "1  11     1     23    2              12   1150  1.739790\n",
            "2  11     1     35    8              15    880  1.760444\n",
            "3  11     0     46    2               6   3500  1.783158\n",
            "4  11     1     47    8               9    150  1.690631\n",
            "Erro: As colunas 'Escolaridade', 'Etnia' e/ou 'Sexo' não existem no dataset.\n"
          ]
        }
      ],
      "source": [
        "# Inspeção das primeiras linhas do dataframe para identificar as colunas de Anos de Estudo, Etnia e Sexo\n",
        "print(df.head())\n",
        "\n",
        "# Verificando se as colunas 'Anos de Estudo', 'Etnia' e 'Sexo' existem\n",
        "if 'Anos de Estudo' not in df.columns or 'Etnia' not in df.columns or 'Sexo' not in df.columns:\n",
        "    print(\"Erro: As colunas 'Escolaridade', 'Etnia' e/ou 'Sexo' não existem no dataset.\")\n",
        "else:\n",
        "    # Filtro apenas os dados de indígenas\n",
        "    df_indigenas = df[df['Etnia'] == 'Indígena']\n"
      ]
    },
    {
      "cell_type": "markdown",
      "metadata": {
        "id": "hgqYfhU33FtF"
      },
      "source": [
        "Qual a média de anos de estudo entre brancos e negros?\n"
      ]
    },
    {
      "cell_type": "code",
      "execution_count": 15,
      "metadata": {
        "id": "EK9X8wTZ3UdS"
      },
      "outputs": [
        {
          "name": "stdout",
          "output_type": "stream",
          "text": [
            "   UF  Sexo  Idade  Cor  Anos de Estudo  Renda    Altura\n",
            "0  11     0     23    8              12    800  1.603808\n",
            "1  11     1     23    2              12   1150  1.739790\n",
            "2  11     1     35    8              15    880  1.760444\n",
            "3  11     0     46    2               6   3500  1.783158\n",
            "4  11     1     47    8               9    150  1.690631\n",
            "Número de valores nulos na coluna 'Anos de Estudo': 0\n",
            "Número de valores nulos na coluna 'Cor': 0\n",
            "Média de anos de estudo entre brancos e negros:\n",
            "Cor\n",
            "0     8.224090\n",
            "2    10.490303\n",
            "4     8.861518\n",
            "6    12.556818\n",
            "8     8.689965\n",
            "Name: Anos de Estudo, dtype: float64\n"
          ]
        }
      ],
      "source": [
        "# Inspeção das primeiras linhas do dataframe para identificar as colunas de anos de estudo e cor\n",
        "print(df.head())\n",
        "\n",
        "# Verificando se as colunas Anos de Estudo e cor existem\n",
        "if 'Anos de Estudo' not in df.columns or 'Cor' not in df.columns:\n",
        "    print(\"Erro: As colunas 'Anos de Estudo' e/ou 'Cor' não existem no dataset.\")\n",
        "else:\n",
        "    # Verificando se há valores nulos nas colunas de anos de estudo e cor\n",
        "    print(\"Número de valores nulos na coluna 'Anos de Estudo':\", df['Anos de Estudo'].isnull().sum())\n",
        "    print(\"Número de valores nulos na coluna 'Cor':\", df['Cor'].isnull().sum())\n",
        "    \n",
        "    # Preenchimento dos valores nulos com a média para Anos de Estudo e Cor\n",
        "    df['Anos de Estudo'] = df['Anos de Estudo'].fillna(df['Anos de Estudo'].mean())\n",
        "    df['Cor'] = df['Cor'].fillna(df['Cor'].mode()[0])\n",
        "\n",
        "    # Cálculo da média de anos de estudo por cor\n",
        "    media_anos_estudo_por_cor = df.groupby('Cor')['Anos de Estudo'].mean()\n",
        "\n",
        "    # Resultado\n",
        "    print(\"Média de anos de estudo entre brancos e negros:\")\n",
        "    print(media_anos_estudo_por_cor)\n"
      ]
    },
    {
      "cell_type": "markdown",
      "metadata": {
        "id": "_ZjroKKB3WBx"
      },
      "source": [
        "Qual a média de anos de estudo e de renda para mulheres brancas, e para mulheres negras?"
      ]
    },
    {
      "cell_type": "code",
      "execution_count": 18,
      "metadata": {
        "id": "7dx7zW7M3Wau"
      },
      "outputs": [
        {
          "name": "stdout",
          "output_type": "stream",
          "text": [
            "Erro: As colunas necessárias ('Anos de Estudo', 'Renda' e/ou 'Nome_cor') não existem no dataset.\n"
          ]
        }
      ],
      "source": [
        "# Verificando se as colunas 'Anos de Estudo', 'Renda' e 'Nome_cor' existem\n",
        "if 'Anos de Estudo' not in df.columns or 'Renda' not in df.columns or 'Nom_cor' not in df.columns:\n",
        "    print(\"Erro: As colunas necessárias ('Anos de Estudo', 'Renda' e/ou 'Nome_cor') não existem no dataset.\")\n",
        "else:\n",
        "    # Filtrando os dados para mulheres brancas e cálculo da média de anos de estudo e renda\n",
        "    mulheres_brancas = df[(df['Sexo'] == 'Feminino') & (df['Nome_cor'] == 1)]\n",
        "    if mulheres_brancas.empty:\n",
        "        print(\"Não há dados para mulheres brancas.\")\n",
        "    else:\n",
        "        media_anos_estudo_brancas = mulheres_brancas['Anos de Estudo'].mean()\n",
        "        media_renda_brancas = mulheres_brancas['Renda'].mean()\n",
        "        print(\"Média de anos de estudo e renda para mulheres brancas:\")\n",
        "        print(f\"Anos de Estudo: {media_anos_estudo_brancas:.2f}\")\n",
        "        print(f\"Renda: R${media_renda_brancas:.2f}\\n\")\n",
        "\n",
        "    # Filtrando os dados para mulheres negras e cálculo da média de anos de estudo e renda\n",
        "    mulheres_negras = df[(df['Sexo'] == 'Feminino') & (df['Nome_cor'] == 2)]\n",
        "    if mulheres_negras.empty:\n",
        "        print(\"Não há dados para mulheres negras.\")\n",
        "    else:\n",
        "        media_anos_estudo_negras = mulheres_negras['Anos de Estudo'].mean()\n",
        "        media_renda_negras = mulheres_negras['Renda'].mean()\n",
        "        print(\"Média de anos de estudo e renda para mulheres negras:\")\n",
        "        print(f\"Anos de Estudo: {media_anos_estudo_negras:.2f}\")\n",
        "        print(f\"Renda: R${media_renda_negras:.2f}\")\n",
        "\n",
        "# Não há definição das cores nos códigos informados no arquivo."
      ]
    },
    {
      "cell_type": "markdown",
      "metadata": {
        "id": "sG2Kkkrd3X5V"
      },
      "source": [
        " Qual é a UF com maior média de escolaridade e qual a UF com maior média de renda?"
      ]
    },
    {
      "cell_type": "code",
      "execution_count": 19,
      "metadata": {
        "id": "imgwaOGk3YNq"
      },
      "outputs": [
        {
          "name": "stdout",
          "output_type": "stream",
          "text": [
            "UF com maior média de escolaridade: 53 (11.91 anos de estudo)\n",
            "UF com maior média de renda: 53 (R$4241.95)\n"
          ]
        }
      ],
      "source": [
        "# Verificando se as colunas necessárias existem no dataframe\n",
        "if 'UF' not in df.columns or 'Anos de Estudo' not in df.columns or 'Renda' not in df.columns:\n",
        "    print(\"Erro: As colunas necessárias ('UF', 'Anos de Estudo' e/ou 'Renda') não existem no dataset.\")\n",
        "else:\n",
        "    # Cálculo da média de escolaridade por UF\n",
        "    media_escolaridade_uf = df.groupby('UF')['Anos de Estudo'].mean()\n",
        "\n",
        "    # Cálculo da média de renda por UF\n",
        "    media_renda_uf = df.groupby('UF')['Renda'].mean()\n",
        "\n",
        "    # UF com maior média de escolaridade\n",
        "    uf_maior_escolaridade = media_escolaridade_uf.idxmax()\n",
        "    media_maior_escolaridade = media_escolaridade_uf.max()\n",
        "\n",
        "    # UF com maior média de renda\n",
        "    uf_maior_renda = media_renda_uf.idxmax()\n",
        "    media_maior_renda = media_renda_uf.max()\n",
        "\n",
        "    # Resultados\n",
        "    print(f\"UF com maior média de escolaridade: {uf_maior_escolaridade} ({media_maior_escolaridade:.2f} anos de estudo)\")\n",
        "    print(f\"UF com maior média de renda: {uf_maior_renda} (R${media_maior_renda:.2f})\")\n"
      ]
    },
    {
      "cell_type": "markdown",
      "metadata": {
        "id": "72Oy_JJ_3Z7F"
      },
      "source": [
        "Elabore você uma pergunta sobre a base de dados e escreva o código para responder a pergunta."
      ]
    },
    {
      "cell_type": "code",
      "execution_count": 20,
      "metadata": {
        "id": "YZFVy7UM3aPC"
      },
      "outputs": [
        {
          "name": "stdout",
          "output_type": "stream",
          "text": [
            "Média de anos de estudo por faixa etária:\n",
            "         Faixa Etária  Anos de Estudo\n",
            "0    20 anos ou menos        9.695026\n",
            "1        21 a 35 anos       10.813111\n",
            "2        36 a 50 anos        9.764274\n",
            "3        51 a 65 anos        8.267320\n",
            "4  maiores de 65 anos        5.842293\n"
          ]
        }
      ],
      "source": [
        "# QUAL A DISTRIBUIÇÃO DE ESCOLARIDADE POR FAIXA ETÁRIA?\n",
        "\n",
        "# Verificando as colunas necessárias existem no dataframe\n",
        "if 'Idade' not in df.columns or 'Anos de Estudo' not in df.columns:\n",
        "    print(\"Erro: As colunas necessárias ('Idade' e/ou 'Anos de Estudo') não existem no dataset.\")\n",
        "else:\n",
        "    # Definição das faixas etárias\n",
        "    faixas_etarias = [\n",
        "        ('20 anos ou menos', 0, 20),\n",
        "        ('21 a 35 anos', 21, 35),\n",
        "        ('36 a 50 anos', 36, 50),\n",
        "        ('51 a 65 anos', 51, 65),\n",
        "        ('maiores de 65 anos', 66, df['Idade'].max())\n",
        "    ]\n",
        "\n",
        "    # Função para determinar a faixa etária com base na idade\n",
        "    def definir_faixa_etaria(Idade):\n",
        "        for faixa in faixas_etarias:\n",
        "            if faixa[1] <= Idade <= faixa[2]:\n",
        "                return faixa[0]\n",
        "        return 'Idade não categorizada'\n",
        "\n",
        "    # Aplicando a função definir_faixa_etaria para criar uma nova coluna 'Faixa Etária'\n",
        "    df['Faixa Etária'] = df['Idade'].apply(definir_faixa_etaria)\n",
        "\n",
        "    # Cálculo da média de anos de estudo por faixa etária\n",
        "    media_anos_estudo_faixa_etaria = df.groupby('Faixa Etária')['Anos de Estudo'].mean().reset_index()\n",
        "\n",
        "    # Resultados\n",
        "    print(\"Média de anos de estudo por faixa etária:\")\n",
        "    print(media_anos_estudo_faixa_etaria)\n"
      ]
    }
  ],
  "metadata": {
    "colab": {
      "provenance": []
    },
    "kernelspec": {
      "display_name": "Python 3",
      "name": "python3"
    },
    "language_info": {
      "codemirror_mode": {
        "name": "ipython",
        "version": 3
      },
      "file_extension": ".py",
      "mimetype": "text/x-python",
      "name": "python",
      "nbconvert_exporter": "python",
      "pygments_lexer": "ipython3",
      "version": "3.12.3"
    }
  },
  "nbformat": 4,
  "nbformat_minor": 0
}
